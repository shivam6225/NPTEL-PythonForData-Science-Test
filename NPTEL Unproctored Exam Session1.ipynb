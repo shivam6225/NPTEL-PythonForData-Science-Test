{
 "cells": [
  {
   "cell_type": "code",
   "execution_count": 2,
   "id": "2bbf5668",
   "metadata": {},
   "outputs": [],
   "source": [
    "import warnings\n",
    "warnings.filterwarnings('ignore')\n",
    "\n",
    "import numpy as np\n",
    "import pandas as pd"
   ]
  },
  {
   "cell_type": "code",
   "execution_count": 3,
   "id": "b1c02fea",
   "metadata": {},
   "outputs": [
    {
     "data": {
      "text/html": [
       "<div>\n",
       "<style scoped>\n",
       "    .dataframe tbody tr th:only-of-type {\n",
       "        vertical-align: middle;\n",
       "    }\n",
       "\n",
       "    .dataframe tbody tr th {\n",
       "        vertical-align: top;\n",
       "    }\n",
       "\n",
       "    .dataframe thead th {\n",
       "        text-align: right;\n",
       "    }\n",
       "</style>\n",
       "<table border=\"1\" class=\"dataframe\">\n",
       "  <thead>\n",
       "    <tr style=\"text-align: right;\">\n",
       "      <th></th>\n",
       "      <th>Unnamed: 0</th>\n",
       "      <th>State_Name</th>\n",
       "      <th>District_Name</th>\n",
       "      <th>Crop_Year</th>\n",
       "      <th>Season</th>\n",
       "      <th>Crop</th>\n",
       "      <th>Area</th>\n",
       "      <th>Production</th>\n",
       "    </tr>\n",
       "  </thead>\n",
       "  <tbody>\n",
       "    <tr>\n",
       "      <th>0</th>\n",
       "      <td>0</td>\n",
       "      <td>Bihar</td>\n",
       "      <td>NALANDA</td>\n",
       "      <td>1997</td>\n",
       "      <td>Rabi</td>\n",
       "      <td>Wheat</td>\n",
       "      <td>81934.00</td>\n",
       "      <td>160425.00</td>\n",
       "    </tr>\n",
       "    <tr>\n",
       "      <th>1</th>\n",
       "      <td>1</td>\n",
       "      <td>Assam</td>\n",
       "      <td>KARBI ANGLONG</td>\n",
       "      <td>2011</td>\n",
       "      <td>Whole Year</td>\n",
       "      <td>Onion</td>\n",
       "      <td>257.00</td>\n",
       "      <td>514.00</td>\n",
       "    </tr>\n",
       "    <tr>\n",
       "      <th>2</th>\n",
       "      <td>2</td>\n",
       "      <td>Gujarat</td>\n",
       "      <td>ANAND</td>\n",
       "      <td>2012</td>\n",
       "      <td>Summer</td>\n",
       "      <td>Maize</td>\n",
       "      <td>100.00</td>\n",
       "      <td>100.00</td>\n",
       "    </tr>\n",
       "    <tr>\n",
       "      <th>3</th>\n",
       "      <td>3</td>\n",
       "      <td>Karnataka</td>\n",
       "      <td>UTTAR KANNAD</td>\n",
       "      <td>2005</td>\n",
       "      <td>Rabi</td>\n",
       "      <td>Groundnut</td>\n",
       "      <td>2872.00</td>\n",
       "      <td>4572.00</td>\n",
       "    </tr>\n",
       "    <tr>\n",
       "      <th>4</th>\n",
       "      <td>4</td>\n",
       "      <td>Uttar Pradesh</td>\n",
       "      <td>JAUNPUR</td>\n",
       "      <td>2008</td>\n",
       "      <td>Rabi</td>\n",
       "      <td>Onion</td>\n",
       "      <td>110.00</td>\n",
       "      <td>1290.00</td>\n",
       "    </tr>\n",
       "    <tr>\n",
       "      <th>...</th>\n",
       "      <td>...</td>\n",
       "      <td>...</td>\n",
       "      <td>...</td>\n",
       "      <td>...</td>\n",
       "      <td>...</td>\n",
       "      <td>...</td>\n",
       "      <td>...</td>\n",
       "      <td>...</td>\n",
       "    </tr>\n",
       "    <tr>\n",
       "      <th>73822</th>\n",
       "      <td>73822</td>\n",
       "      <td>Bihar</td>\n",
       "      <td>BUXAR</td>\n",
       "      <td>2004</td>\n",
       "      <td>Whole Year</td>\n",
       "      <td>Onion</td>\n",
       "      <td>203.00</td>\n",
       "      <td>1918.00</td>\n",
       "    </tr>\n",
       "    <tr>\n",
       "      <th>73823</th>\n",
       "      <td>73823</td>\n",
       "      <td>Madhya Pradesh</td>\n",
       "      <td>RAJGARH</td>\n",
       "      <td>2013</td>\n",
       "      <td>Kharif</td>\n",
       "      <td>Bajra</td>\n",
       "      <td>12.00</td>\n",
       "      <td>11.00</td>\n",
       "    </tr>\n",
       "    <tr>\n",
       "      <th>73824</th>\n",
       "      <td>73824</td>\n",
       "      <td>Madhya Pradesh</td>\n",
       "      <td>RAJGARH</td>\n",
       "      <td>1998</td>\n",
       "      <td>Kharif</td>\n",
       "      <td>Groundnut</td>\n",
       "      <td>8700.00</td>\n",
       "      <td>9100.00</td>\n",
       "    </tr>\n",
       "    <tr>\n",
       "      <th>73825</th>\n",
       "      <td>73825</td>\n",
       "      <td>Rajasthan</td>\n",
       "      <td>TONK</td>\n",
       "      <td>2000</td>\n",
       "      <td>Kharif</td>\n",
       "      <td>Bajra</td>\n",
       "      <td>34477.00</td>\n",
       "      <td>20137.00</td>\n",
       "    </tr>\n",
       "    <tr>\n",
       "      <th>73826</th>\n",
       "      <td>73826</td>\n",
       "      <td>Jharkhand</td>\n",
       "      <td>KODERMA</td>\n",
       "      <td>2002</td>\n",
       "      <td>Winter</td>\n",
       "      <td>Rice</td>\n",
       "      <td>14685.71</td>\n",
       "      <td>18552.95</td>\n",
       "    </tr>\n",
       "  </tbody>\n",
       "</table>\n",
       "<p>73827 rows × 8 columns</p>\n",
       "</div>"
      ],
      "text/plain": [
       "       Unnamed: 0      State_Name  District_Name  Crop_Year      Season  \\\n",
       "0               0           Bihar        NALANDA       1997        Rabi   \n",
       "1               1           Assam  KARBI ANGLONG       2011  Whole Year   \n",
       "2               2         Gujarat          ANAND       2012      Summer   \n",
       "3               3       Karnataka   UTTAR KANNAD       2005        Rabi   \n",
       "4               4   Uttar Pradesh        JAUNPUR       2008        Rabi   \n",
       "...           ...             ...            ...        ...         ...   \n",
       "73822       73822           Bihar          BUXAR       2004  Whole Year   \n",
       "73823       73823  Madhya Pradesh        RAJGARH       2013      Kharif   \n",
       "73824       73824  Madhya Pradesh        RAJGARH       1998      Kharif   \n",
       "73825       73825       Rajasthan           TONK       2000      Kharif   \n",
       "73826       73826       Jharkhand        KODERMA       2002      Winter   \n",
       "\n",
       "            Crop      Area  Production  \n",
       "0          Wheat  81934.00   160425.00  \n",
       "1          Onion    257.00      514.00  \n",
       "2          Maize    100.00      100.00  \n",
       "3      Groundnut   2872.00     4572.00  \n",
       "4          Onion    110.00     1290.00  \n",
       "...          ...       ...         ...  \n",
       "73822      Onion    203.00     1918.00  \n",
       "73823      Bajra     12.00       11.00  \n",
       "73824  Groundnut   8700.00     9100.00  \n",
       "73825      Bajra  34477.00    20137.00  \n",
       "73826       Rice  14685.71    18552.95  \n",
       "\n",
       "[73827 rows x 8 columns]"
      ]
     },
     "execution_count": 3,
     "metadata": {},
     "output_type": "execute_result"
    }
   ],
   "source": [
    "ap=pd.read_csv(\"apy.csv\")\n",
    "ap"
   ]
  },
  {
   "cell_type": "code",
   "execution_count": 5,
   "id": "34530210",
   "metadata": {},
   "outputs": [
    {
     "name": "stdout",
     "output_type": "stream",
     "text": [
      "<class 'pandas.core.frame.DataFrame'>\n",
      "RangeIndex: 73827 entries, 0 to 73826\n",
      "Data columns (total 8 columns):\n",
      " #   Column         Non-Null Count  Dtype  \n",
      "---  ------         --------------  -----  \n",
      " 0   Unnamed: 0     73827 non-null  int64  \n",
      " 1   State_Name     73827 non-null  object \n",
      " 2   District_Name  73827 non-null  object \n",
      " 3   Crop_Year      73827 non-null  int64  \n",
      " 4   Season         73827 non-null  object \n",
      " 5   Crop           73827 non-null  object \n",
      " 6   Area           73827 non-null  float64\n",
      " 7   Production     72731 non-null  float64\n",
      "dtypes: float64(2), int64(2), object(4)\n",
      "memory usage: 4.5+ MB\n"
     ]
    },
    {
     "data": {
      "text/html": [
       "<div>\n",
       "<style scoped>\n",
       "    .dataframe tbody tr th:only-of-type {\n",
       "        vertical-align: middle;\n",
       "    }\n",
       "\n",
       "    .dataframe tbody tr th {\n",
       "        vertical-align: top;\n",
       "    }\n",
       "\n",
       "    .dataframe thead th {\n",
       "        text-align: right;\n",
       "    }\n",
       "</style>\n",
       "<table border=\"1\" class=\"dataframe\">\n",
       "  <thead>\n",
       "    <tr style=\"text-align: right;\">\n",
       "      <th></th>\n",
       "      <th>Unnamed: 0</th>\n",
       "      <th>Crop_Year</th>\n",
       "      <th>Area</th>\n",
       "      <th>Production</th>\n",
       "    </tr>\n",
       "  </thead>\n",
       "  <tbody>\n",
       "    <tr>\n",
       "      <th>count</th>\n",
       "      <td>73827.000000</td>\n",
       "      <td>73827.000000</td>\n",
       "      <td>7.382700e+04</td>\n",
       "      <td>7.273100e+04</td>\n",
       "    </tr>\n",
       "    <tr>\n",
       "      <th>mean</th>\n",
       "      <td>36913.000000</td>\n",
       "      <td>2005.657551</td>\n",
       "      <td>1.218297e+04</td>\n",
       "      <td>6.210320e+05</td>\n",
       "    </tr>\n",
       "    <tr>\n",
       "      <th>std</th>\n",
       "      <td>21312.163499</td>\n",
       "      <td>4.954910</td>\n",
       "      <td>5.348285e+04</td>\n",
       "      <td>1.749756e+07</td>\n",
       "    </tr>\n",
       "    <tr>\n",
       "      <th>min</th>\n",
       "      <td>0.000000</td>\n",
       "      <td>1997.000000</td>\n",
       "      <td>4.000000e-02</td>\n",
       "      <td>0.000000e+00</td>\n",
       "    </tr>\n",
       "    <tr>\n",
       "      <th>25%</th>\n",
       "      <td>18456.500000</td>\n",
       "      <td>2002.000000</td>\n",
       "      <td>8.100000e+01</td>\n",
       "      <td>8.900000e+01</td>\n",
       "    </tr>\n",
       "    <tr>\n",
       "      <th>50%</th>\n",
       "      <td>36913.000000</td>\n",
       "      <td>2006.000000</td>\n",
       "      <td>5.900000e+02</td>\n",
       "      <td>7.290000e+02</td>\n",
       "    </tr>\n",
       "    <tr>\n",
       "      <th>75%</th>\n",
       "      <td>55369.500000</td>\n",
       "      <td>2010.000000</td>\n",
       "      <td>4.500000e+03</td>\n",
       "      <td>7.200000e+03</td>\n",
       "    </tr>\n",
       "    <tr>\n",
       "      <th>max</th>\n",
       "      <td>73826.000000</td>\n",
       "      <td>2015.000000</td>\n",
       "      <td>8.580100e+06</td>\n",
       "      <td>1.125000e+09</td>\n",
       "    </tr>\n",
       "  </tbody>\n",
       "</table>\n",
       "</div>"
      ],
      "text/plain": [
       "         Unnamed: 0     Crop_Year          Area    Production\n",
       "count  73827.000000  73827.000000  7.382700e+04  7.273100e+04\n",
       "mean   36913.000000   2005.657551  1.218297e+04  6.210320e+05\n",
       "std    21312.163499      4.954910  5.348285e+04  1.749756e+07\n",
       "min        0.000000   1997.000000  4.000000e-02  0.000000e+00\n",
       "25%    18456.500000   2002.000000  8.100000e+01  8.900000e+01\n",
       "50%    36913.000000   2006.000000  5.900000e+02  7.290000e+02\n",
       "75%    55369.500000   2010.000000  4.500000e+03  7.200000e+03\n",
       "max    73826.000000   2015.000000  8.580100e+06  1.125000e+09"
      ]
     },
     "execution_count": 5,
     "metadata": {},
     "output_type": "execute_result"
    }
   ],
   "source": [
    "ap.info()\n",
    "ap.describe()"
   ]
  },
  {
   "cell_type": "code",
   "execution_count": 6,
   "id": "4442bd6d",
   "metadata": {},
   "outputs": [
    {
     "data": {
      "text/html": [
       "<div>\n",
       "<style scoped>\n",
       "    .dataframe tbody tr th:only-of-type {\n",
       "        vertical-align: middle;\n",
       "    }\n",
       "\n",
       "    .dataframe tbody tr th {\n",
       "        vertical-align: top;\n",
       "    }\n",
       "\n",
       "    .dataframe thead th {\n",
       "        text-align: right;\n",
       "    }\n",
       "</style>\n",
       "<table border=\"1\" class=\"dataframe\">\n",
       "  <thead>\n",
       "    <tr style=\"text-align: right;\">\n",
       "      <th></th>\n",
       "      <th>Unnamed: 0</th>\n",
       "      <th>Crop_Year</th>\n",
       "      <th>Area</th>\n",
       "      <th>Production</th>\n",
       "    </tr>\n",
       "  </thead>\n",
       "  <tbody>\n",
       "    <tr>\n",
       "      <th>count</th>\n",
       "      <td>72731.000000</td>\n",
       "      <td>72731.000000</td>\n",
       "      <td>7.273100e+04</td>\n",
       "      <td>7.273100e+04</td>\n",
       "    </tr>\n",
       "    <tr>\n",
       "      <th>mean</th>\n",
       "      <td>36914.401328</td>\n",
       "      <td>2005.644196</td>\n",
       "      <td>1.234096e+04</td>\n",
       "      <td>6.210320e+05</td>\n",
       "    </tr>\n",
       "    <tr>\n",
       "      <th>std</th>\n",
       "      <td>21318.887413</td>\n",
       "      <td>4.961339</td>\n",
       "      <td>5.381338e+04</td>\n",
       "      <td>1.749756e+07</td>\n",
       "    </tr>\n",
       "    <tr>\n",
       "      <th>min</th>\n",
       "      <td>0.000000</td>\n",
       "      <td>1997.000000</td>\n",
       "      <td>2.800000e-01</td>\n",
       "      <td>0.000000e+00</td>\n",
       "    </tr>\n",
       "    <tr>\n",
       "      <th>25%</th>\n",
       "      <td>18443.500000</td>\n",
       "      <td>2002.000000</td>\n",
       "      <td>8.800000e+01</td>\n",
       "      <td>8.900000e+01</td>\n",
       "    </tr>\n",
       "    <tr>\n",
       "      <th>50%</th>\n",
       "      <td>36917.000000</td>\n",
       "      <td>2006.000000</td>\n",
       "      <td>6.070000e+02</td>\n",
       "      <td>7.290000e+02</td>\n",
       "    </tr>\n",
       "    <tr>\n",
       "      <th>75%</th>\n",
       "      <td>55381.500000</td>\n",
       "      <td>2010.000000</td>\n",
       "      <td>4.631500e+03</td>\n",
       "      <td>7.200000e+03</td>\n",
       "    </tr>\n",
       "    <tr>\n",
       "      <th>max</th>\n",
       "      <td>73826.000000</td>\n",
       "      <td>2015.000000</td>\n",
       "      <td>8.580100e+06</td>\n",
       "      <td>1.125000e+09</td>\n",
       "    </tr>\n",
       "  </tbody>\n",
       "</table>\n",
       "</div>"
      ],
      "text/plain": [
       "         Unnamed: 0     Crop_Year          Area    Production\n",
       "count  72731.000000  72731.000000  7.273100e+04  7.273100e+04\n",
       "mean   36914.401328   2005.644196  1.234096e+04  6.210320e+05\n",
       "std    21318.887413      4.961339  5.381338e+04  1.749756e+07\n",
       "min        0.000000   1997.000000  2.800000e-01  0.000000e+00\n",
       "25%    18443.500000   2002.000000  8.800000e+01  8.900000e+01\n",
       "50%    36917.000000   2006.000000  6.070000e+02  7.290000e+02\n",
       "75%    55381.500000   2010.000000  4.631500e+03  7.200000e+03\n",
       "max    73826.000000   2015.000000  8.580100e+06  1.125000e+09"
      ]
     },
     "execution_count": 6,
     "metadata": {},
     "output_type": "execute_result"
    }
   ],
   "source": [
    "ap=ap.dropna()\n",
    "ap.describe()"
   ]
  },
  {
   "cell_type": "code",
   "execution_count": 111,
   "id": "92485323",
   "metadata": {},
   "outputs": [
    {
     "data": {
      "text/plain": [
       "Unnamed: 0       0\n",
       "State_Name       0\n",
       "District_Name    0\n",
       "Crop_Year        0\n",
       "Season           0\n",
       "Crop             0\n",
       "Area             0\n",
       "Production       0\n",
       "dtype: int64"
      ]
     },
     "execution_count": 111,
     "metadata": {},
     "output_type": "execute_result"
    }
   ],
   "source": [
    "ap.isnull().sum()"
   ]
  },
  {
   "cell_type": "code",
   "execution_count": null,
   "id": "7504b2fd",
   "metadata": {},
   "outputs": [],
   "source": []
  },
  {
   "cell_type": "code",
   "execution_count": 92,
   "id": "3a7e83a0",
   "metadata": {},
   "outputs": [],
   "source": [
    "import warnings\n",
    "warnings.filterwarnings('ignore')\n",
    "\n",
    "import numpy as np\n",
    "import pandas as pd\n",
    "\n",
    "import matplotlib.pyplot as plt \n",
    "import seaborn as sns\n",
    "import statsmodels.api as sm\n",
    "from sklearn.model_selection import train_test_split\n",
    "from sklearn.metrics import mean_squared_error\n",
    "\n",
    "ap=pd.read_csv(\"apy.csv\")\n",
    "ap.isnull().sum()\n",
    "ap=ap.dropna()"
   ]
  },
  {
   "cell_type": "code",
   "execution_count": 93,
   "id": "30932536",
   "metadata": {},
   "outputs": [
    {
     "data": {
      "text/plain": [
       "<seaborn.axisgrid.PairGrid at 0x1ce523d8e80>"
      ]
     },
     "execution_count": 93,
     "metadata": {},
     "output_type": "execute_result"
    },
    {
     "data": {
      "image/png": "[encoded data removed]",
      "text/plain": [
       "<Figure size 288x288 with 1 Axes>"
      ]
     },
     "metadata": {
      "needs_background": "light"
     },
     "output_type": "display_data"
    }
   ],
   "source": [
    "sns.pairplot(ap,x_vars='Area',y_vars='Production',size=4,aspect=1,kind='scatter')"
   ]
  },
  {
   "cell_type": "code",
   "execution_count": 94,
   "id": "d9373808",
   "metadata": {},
   "outputs": [
    {
     "data": {
      "image/png": "[encoded data removed]",
      "text/plain": [
       "<Figure size 432x288 with 2 Axes>"
      ]
     },
     "metadata": {
      "needs_background": "light"
     },
     "output_type": "display_data"
    }
   ],
   "source": [
    "sns.heatmap(ap.corr(), cmap=\"YlGnBu\", annot = True)\n",
    "plt.show()"
   ]
  },
  {
   "cell_type": "code",
   "execution_count": 95,
   "id": "3e2e7f70",
   "metadata": {},
   "outputs": [],
   "source": [
    "X =ap['Area']\n",
    "y =ap['Production']"
   ]
  },
  {
   "cell_type": "code",
   "execution_count": 96,
   "id": "31de1e29",
   "metadata": {},
   "outputs": [
    {
     "data": {
      "text/plain": [
       "22943    90384.0\n",
       "30934      600.0\n",
       "40887    15107.0\n",
       "19628        2.0\n",
       "20896      100.0\n",
       "          ...   \n",
       "38407     2467.0\n",
       "29218    14864.0\n",
       "25625     3519.0\n",
       "4895     14595.0\n",
       "10349     2229.0\n",
       "Name: Area, Length: 58184, dtype: float64"
      ]
     },
     "execution_count": 96,
     "metadata": {},
     "output_type": "execute_result"
    }
   ],
   "source": [
    "X_train, X_test, y_train, y_test = train_test_split(X, y, train_size = 0.8, \n",
    "                                                    test_size = 0.2, random_state = 111)\n",
    "X_train"
   ]
  },
  {
   "cell_type": "code",
   "execution_count": 97,
   "id": "7d18a804",
   "metadata": {},
   "outputs": [
    {
     "data": {
      "text/plain": [
       "22943    175616.0\n",
       "30934       300.0\n",
       "40887     51090.0\n",
       "19628         1.0\n",
       "20896       100.0\n",
       "           ...   \n",
       "38407      3894.0\n",
       "29218     11480.0\n",
       "25625      1569.0\n",
       "4895      16058.0\n",
       "10349       972.0\n",
       "Name: Production, Length: 58184, dtype: float64"
      ]
     },
     "execution_count": 97,
     "metadata": {},
     "output_type": "execute_result"
    }
   ],
   "source": [
    "y_train"
   ]
  },
  {
   "cell_type": "code",
   "execution_count": 98,
   "id": "7fee1e0a",
   "metadata": {},
   "outputs": [],
   "source": [
    "X_train_sm = sm.add_constant(X_train)"
   ]
  },
  {
   "cell_type": "code",
   "execution_count": 99,
   "id": "4f30550a",
   "metadata": {},
   "outputs": [
    {
     "data": {
      "text/plain": [
       "const    433264.117596\n",
       "Area         12.517891\n",
       "dtype: float64"
      ]
     },
     "execution_count": 99,
     "metadata": {},
     "output_type": "execute_result"
    }
   ],
   "source": [
    "lr = sm.OLS(y_train, X_train_sm).fit()\n",
    "lr.params"
   ]
  },
  {
   "cell_type": "code",
   "execution_count": 100,
   "id": "0027d0a0",
   "metadata": {},
   "outputs": [
    {
     "data": {
      "text/html": [
       "<table class=\"simpletable\">\n",
       "<caption>OLS Regression Results</caption>\n",
       "<tr>\n",
       "  <th>Dep. Variable:</th>       <td>Production</td>    <th>  R-squared:         </th>  <td>   0.002</td>  \n",
       "</tr>\n",
       "<tr>\n",
       "  <th>Model:</th>                   <td>OLS</td>       <th>  Adj. R-squared:    </th>  <td>   0.002</td>  \n",
       "</tr>\n",
       "<tr>\n",
       "  <th>Method:</th>             <td>Least Squares</td>  <th>  F-statistic:       </th>  <td>   96.08</td>  \n",
       "</tr>\n",
       "<tr>\n",
       "  <th>Date:</th>             <td>Fri, 16 Sep 2022</td> <th>  Prob (F-statistic):</th>  <td>1.15e-22</td>  \n",
       "</tr>\n",
       "<tr>\n",
       "  <th>Time:</th>                 <td>16:30:05</td>     <th>  Log-Likelihood:    </th> <td>-1.0516e+06</td>\n",
       "</tr>\n",
       "<tr>\n",
       "  <th>No. Observations:</th>      <td> 58184</td>      <th>  AIC:               </th>  <td>2.103e+06</td> \n",
       "</tr>\n",
       "<tr>\n",
       "  <th>Df Residuals:</th>          <td> 58182</td>      <th>  BIC:               </th>  <td>2.103e+06</td> \n",
       "</tr>\n",
       "<tr>\n",
       "  <th>Df Model:</th>              <td>     1</td>      <th>                     </th>      <td> </td>     \n",
       "</tr>\n",
       "<tr>\n",
       "  <th>Covariance Type:</th>      <td>nonrobust</td>    <th>                     </th>      <td> </td>     \n",
       "</tr>\n",
       "</table>\n",
       "<table class=\"simpletable\">\n",
       "<tr>\n",
       "    <td></td>       <th>coef</th>     <th>std err</th>      <th>t</th>      <th>P>|t|</th>  <th>[0.025</th>    <th>0.975]</th>  \n",
       "</tr>\n",
       "<tr>\n",
       "  <th>const</th> <td> 4.333e+05</td> <td> 7.26e+04</td> <td>    5.969</td> <td> 0.000</td> <td> 2.91e+05</td> <td> 5.76e+05</td>\n",
       "</tr>\n",
       "<tr>\n",
       "  <th>Area</th>  <td>   12.5179</td> <td>    1.277</td> <td>    9.802</td> <td> 0.000</td> <td>   10.015</td> <td>   15.021</td>\n",
       "</tr>\n",
       "</table>\n",
       "<table class=\"simpletable\">\n",
       "<tr>\n",
       "  <th>Omnibus:</th>       <td>168706.224</td> <th>  Durbin-Watson:     </th>    <td>   2.002</td>   \n",
       "</tr>\n",
       "<tr>\n",
       "  <th>Prob(Omnibus):</th>   <td> 0.000</td>   <th>  Jarque-Bera (JB):  </th> <td>8103931935.368</td>\n",
       "</tr>\n",
       "<tr>\n",
       "  <th>Skew:</th>            <td>40.385</td>   <th>  Prob(JB):          </th>    <td>    0.00</td>   \n",
       "</tr>\n",
       "<tr>\n",
       "  <th>Kurtosis:</th>       <td>1829.533</td>  <th>  Cond. No.          </th>    <td>5.82e+04</td>   \n",
       "</tr>\n",
       "</table><br/><br/>Notes:<br/>[1] Standard Errors assume that the covariance matrix of the errors is correctly specified.<br/>[2] The condition number is large, 5.82e+04. This might indicate that there are<br/>strong multicollinearity or other numerical problems."
      ],
      "text/plain": [
       "<class 'statsmodels.iolib.summary.Summary'>\n",
       "\"\"\"\n",
       "                            OLS Regression Results                            \n",
       "==============================================================================\n",
       "Dep. Variable:             Production   R-squared:                       0.002\n",
       "Model:                            OLS   Adj. R-squared:                  0.002\n",
       "Method:                 Least Squares   F-statistic:                     96.08\n",
       "Date:                Fri, 16 Sep 2022   Prob (F-statistic):           1.15e-22\n",
       "Time:                        16:30:05   Log-Likelihood:            -1.0516e+06\n",
       "No. Observations:               58184   AIC:                         2.103e+06\n",
       "Df Residuals:                   58182   BIC:                         2.103e+06\n",
       "Df Model:                           1                                         \n",
       "Covariance Type:            nonrobust                                         \n",
       "==============================================================================\n",
       "                 coef    std err          t      P>|t|      [0.025      0.975]\n",
       "------------------------------------------------------------------------------\n",
       "const       4.333e+05   7.26e+04      5.969      0.000    2.91e+05    5.76e+05\n",
       "Area          12.5179      1.277      9.802      0.000      10.015      15.021\n",
       "==============================================================================\n",
       "Omnibus:                   168706.224   Durbin-Watson:                   2.002\n",
       "Prob(Omnibus):                  0.000   Jarque-Bera (JB):       8103931935.368\n",
       "Skew:                          40.385   Prob(JB):                         0.00\n",
       "Kurtosis:                    1829.533   Cond. No.                     5.82e+04\n",
       "==============================================================================\n",
       "\n",
       "Notes:\n",
       "[1] Standard Errors assume that the covariance matrix of the errors is correctly specified.\n",
       "[2] The condition number is large, 5.82e+04. This might indicate that there are\n",
       "strong multicollinearity or other numerical problems.\n",
       "\"\"\""
      ]
     },
     "execution_count": 100,
     "metadata": {},
     "output_type": "execute_result"
    }
   ],
   "source": [
    "lr.summary()"
   ]
  },
  {
   "cell_type": "code",
   "execution_count": 101,
   "id": "87db5da5",
   "metadata": {},
   "outputs": [],
   "source": [
    "y_train_pred = lr.predict(X_train_sm)\n",
    "res = (y_train - y_train_pred)"
   ]
  },
  {
   "cell_type": "code",
   "execution_count": 102,
   "id": "e49a3562",
   "metadata": {},
   "outputs": [
    {
     "data": {
      "image/png": "[encoded data removed]",
      "text/plain": [
       "<Figure size 432x288 with 1 Axes>"
      ]
     },
     "metadata": {
      "needs_background": "light"
     },
     "output_type": "display_data"
    }
   ],
   "source": [
    "fig = plt.figure()\n",
    "sns.distplot(res, bins = 15)\n",
    "plt.title('Error Terms', fontsize = 15)\n",
    "plt.xlabel('y_train - y_train_pred', fontsize = 15)\n",
    "plt.show()"
   ]
  },
  {
   "cell_type": "code",
   "execution_count": 103,
   "id": "17deda45",
   "metadata": {},
   "outputs": [
    {
     "data": {
      "text/plain": [
       "8555     463307.055130\n",
       "65858    433677.207987\n",
       "13878    611205.933035\n",
       "4248     435529.855801\n",
       "69272    437482.646741\n",
       "             ...      \n",
       "52318    435141.801192\n",
       "13737    451202.254882\n",
       "34477    923965.430661\n",
       "69865    455395.748246\n",
       "68253    440499.458385\n",
       "Length: 14547, dtype: float64"
      ]
     },
     "execution_count": 103,
     "metadata": {},
     "output_type": "execute_result"
    }
   ],
   "source": [
    "X_test_sm = sm.add_constant(X_test)\n",
    "\n",
    "# Predicting the y values corresponding to X_test_sm\n",
    "y_test_pred = lr.predict(X_test_sm)\n",
    "\n",
    "# Printing the first 15 predicted values\n",
    "y_test_pred"
   ]
  },
  {
   "cell_type": "code",
   "execution_count": 105,
   "id": "1c07d2bf",
   "metadata": {},
   "outputs": [
    {
     "name": "stdout",
     "output_type": "stream",
     "text": [
      "18962432.767530125\n"
     ]
    }
   ],
   "source": [
    "import math\n",
    "\n",
    "mse = mean_squared_error(y_test,y_test_pred)\n",
    "\n",
    "rmse = math.sqrt(mse)\n",
    "\n",
    "print(rmse)"
   ]
  },
  {
   "cell_type": "code",
   "execution_count": 112,
   "id": "25132afa",
   "metadata": {},
   "outputs": [
    {
     "data": {
      "text/html": [
       "<div>\n",
       "<style scoped>\n",
       "    .dataframe tbody tr th:only-of-type {\n",
       "        vertical-align: middle;\n",
       "    }\n",
       "\n",
       "    .dataframe tbody tr th {\n",
       "        vertical-align: top;\n",
       "    }\n",
       "\n",
       "    .dataframe thead th {\n",
       "        text-align: right;\n",
       "    }\n",
       "</style>\n",
       "<table border=\"1\" class=\"dataframe\">\n",
       "  <thead>\n",
       "    <tr style=\"text-align: right;\">\n",
       "      <th></th>\n",
       "      <th>Unnamed: 0</th>\n",
       "      <th>State_Name</th>\n",
       "      <th>District_Name</th>\n",
       "      <th>Crop_Year</th>\n",
       "      <th>Season</th>\n",
       "      <th>Crop</th>\n",
       "      <th>Area</th>\n",
       "      <th>Production</th>\n",
       "    </tr>\n",
       "  </thead>\n",
       "  <tbody>\n",
       "    <tr>\n",
       "      <th>0</th>\n",
       "      <td>0</td>\n",
       "      <td>Bihar</td>\n",
       "      <td>NALANDA</td>\n",
       "      <td>1997</td>\n",
       "      <td>Rabi</td>\n",
       "      <td>Wheat</td>\n",
       "      <td>81934.00</td>\n",
       "      <td>160425.00</td>\n",
       "    </tr>\n",
       "    <tr>\n",
       "      <th>1</th>\n",
       "      <td>1</td>\n",
       "      <td>Assam</td>\n",
       "      <td>KARBI ANGLONG</td>\n",
       "      <td>2011</td>\n",
       "      <td>Whole Year</td>\n",
       "      <td>Onion</td>\n",
       "      <td>257.00</td>\n",
       "      <td>514.00</td>\n",
       "    </tr>\n",
       "    <tr>\n",
       "      <th>2</th>\n",
       "      <td>2</td>\n",
       "      <td>Gujarat</td>\n",
       "      <td>ANAND</td>\n",
       "      <td>2012</td>\n",
       "      <td>Summer</td>\n",
       "      <td>Maize</td>\n",
       "      <td>100.00</td>\n",
       "      <td>100.00</td>\n",
       "    </tr>\n",
       "    <tr>\n",
       "      <th>3</th>\n",
       "      <td>3</td>\n",
       "      <td>Karnataka</td>\n",
       "      <td>UTTAR KANNAD</td>\n",
       "      <td>2005</td>\n",
       "      <td>Rabi</td>\n",
       "      <td>Groundnut</td>\n",
       "      <td>2872.00</td>\n",
       "      <td>4572.00</td>\n",
       "    </tr>\n",
       "    <tr>\n",
       "      <th>4</th>\n",
       "      <td>4</td>\n",
       "      <td>Uttar Pradesh</td>\n",
       "      <td>JAUNPUR</td>\n",
       "      <td>2008</td>\n",
       "      <td>Rabi</td>\n",
       "      <td>Onion</td>\n",
       "      <td>110.00</td>\n",
       "      <td>1290.00</td>\n",
       "    </tr>\n",
       "    <tr>\n",
       "      <th>...</th>\n",
       "      <td>...</td>\n",
       "      <td>...</td>\n",
       "      <td>...</td>\n",
       "      <td>...</td>\n",
       "      <td>...</td>\n",
       "      <td>...</td>\n",
       "      <td>...</td>\n",
       "      <td>...</td>\n",
       "    </tr>\n",
       "    <tr>\n",
       "      <th>73822</th>\n",
       "      <td>73822</td>\n",
       "      <td>Bihar</td>\n",
       "      <td>BUXAR</td>\n",
       "      <td>2004</td>\n",
       "      <td>Whole Year</td>\n",
       "      <td>Onion</td>\n",
       "      <td>203.00</td>\n",
       "      <td>1918.00</td>\n",
       "    </tr>\n",
       "    <tr>\n",
       "      <th>73823</th>\n",
       "      <td>73823</td>\n",
       "      <td>Madhya Pradesh</td>\n",
       "      <td>RAJGARH</td>\n",
       "      <td>2013</td>\n",
       "      <td>Kharif</td>\n",
       "      <td>Bajra</td>\n",
       "      <td>12.00</td>\n",
       "      <td>11.00</td>\n",
       "    </tr>\n",
       "    <tr>\n",
       "      <th>73824</th>\n",
       "      <td>73824</td>\n",
       "      <td>Madhya Pradesh</td>\n",
       "      <td>RAJGARH</td>\n",
       "      <td>1998</td>\n",
       "      <td>Kharif</td>\n",
       "      <td>Groundnut</td>\n",
       "      <td>8700.00</td>\n",
       "      <td>9100.00</td>\n",
       "    </tr>\n",
       "    <tr>\n",
       "      <th>73825</th>\n",
       "      <td>73825</td>\n",
       "      <td>Rajasthan</td>\n",
       "      <td>TONK</td>\n",
       "      <td>2000</td>\n",
       "      <td>Kharif</td>\n",
       "      <td>Bajra</td>\n",
       "      <td>34477.00</td>\n",
       "      <td>20137.00</td>\n",
       "    </tr>\n",
       "    <tr>\n",
       "      <th>73826</th>\n",
       "      <td>73826</td>\n",
       "      <td>Jharkhand</td>\n",
       "      <td>KODERMA</td>\n",
       "      <td>2002</td>\n",
       "      <td>Winter</td>\n",
       "      <td>Rice</td>\n",
       "      <td>14685.71</td>\n",
       "      <td>18552.95</td>\n",
       "    </tr>\n",
       "  </tbody>\n",
       "</table>\n",
       "<p>72731 rows × 8 columns</p>\n",
       "</div>"
      ],
      "text/plain": [
       "       Unnamed: 0      State_Name  District_Name  Crop_Year      Season  \\\n",
       "0               0           Bihar        NALANDA       1997        Rabi   \n",
       "1               1           Assam  KARBI ANGLONG       2011  Whole Year   \n",
       "2               2         Gujarat          ANAND       2012      Summer   \n",
       "3               3       Karnataka   UTTAR KANNAD       2005        Rabi   \n",
       "4               4   Uttar Pradesh        JAUNPUR       2008        Rabi   \n",
       "...           ...             ...            ...        ...         ...   \n",
       "73822       73822           Bihar          BUXAR       2004  Whole Year   \n",
       "73823       73823  Madhya Pradesh        RAJGARH       2013      Kharif   \n",
       "73824       73824  Madhya Pradesh        RAJGARH       1998      Kharif   \n",
       "73825       73825       Rajasthan           TONK       2000      Kharif   \n",
       "73826       73826       Jharkhand        KODERMA       2002      Winter   \n",
       "\n",
       "            Crop      Area  Production  \n",
       "0          Wheat  81934.00   160425.00  \n",
       "1          Onion    257.00      514.00  \n",
       "2          Maize    100.00      100.00  \n",
       "3      Groundnut   2872.00     4572.00  \n",
       "4          Onion    110.00     1290.00  \n",
       "...          ...       ...         ...  \n",
       "73822      Onion    203.00     1918.00  \n",
       "73823      Bajra     12.00       11.00  \n",
       "73824  Groundnut   8700.00     9100.00  \n",
       "73825      Bajra  34477.00    20137.00  \n",
       "73826       Rice  14685.71    18552.95  \n",
       "\n",
       "[72731 rows x 8 columns]"
      ]
     },
     "execution_count": 112,
     "metadata": {},
     "output_type": "execute_result"
    }
   ],
   "source": [
    "ap"
   ]
  },
  {
   "cell_type": "code",
   "execution_count": 117,
   "id": "ba943f38",
   "metadata": {},
   "outputs": [
    {
     "data": {
      "text/plain": [
       "Crop\n",
       "Arhar/Tur                    3588511.0\n",
       "Bajra                        6666151.0\n",
       "Banana                        862240.0\n",
       "Castor seed                    15151.5\n",
       "Cotton(lint)                23426604.0\n",
       "Gram                         4553927.0\n",
       "Grapes                        152147.0\n",
       "Groundnut                    1938415.0\n",
       "Jowar                       17912993.0\n",
       "Linseed                        42612.0\n",
       "Maize                        5201836.0\n",
       "Mango                         195730.0\n",
       "Moong(Green Gram)            1269842.0\n",
       "Niger seed                     76692.0\n",
       "Onion                        1473341.0\n",
       "Other  Rabi pulses            148552.0\n",
       "Other Cereals & Millets        42500.0\n",
       "Other Kharif pulses           169240.0\n",
       "Pulses total                    3173.0\n",
       "Ragi                          860385.0\n",
       "Rapeseed &Mustard              12999.0\n",
       "Rice                        10030395.0\n",
       "Safflower                     605498.0\n",
       "Sesamum                       107764.0\n",
       "Small millets                  76400.0\n",
       "Soyabean                    11377612.0\n",
       "Sugarcane                  263910376.0\n",
       "Sunflower                     670642.0\n",
       "Tobacco                         2100.0\n",
       "Tomato                         57970.0\n",
       "Total foodgrain                28818.0\n",
       "Urad                         1177100.0\n",
       "Wheat                        5514841.0\n",
       "other oilseeds                  4500.0\n",
       "Name: Production, dtype: float64"
      ]
     },
     "execution_count": 117,
     "metadata": {},
     "output_type": "execute_result"
    }
   ],
   "source": [
    "ap[ap[\"State_Name\"]=='Maharashtra'].groupby([\"Crop\"])['Production'].sum()"
   ]
  },
  {
   "cell_type": "code",
   "execution_count": 120,
   "id": "82b77573",
   "metadata": {},
   "outputs": [
    {
     "data": {
      "text/plain": [
       "Crop_Year\n",
       "1997    2.768054e+08\n",
       "1998    5.356398e+08\n",
       "1999    1.873175e+09\n",
       "2000    1.964593e+09\n",
       "2001    3.086705e+09\n",
       "2002    2.616621e+09\n",
       "2003    1.394080e+09\n",
       "2004    3.896185e+09\n",
       "2005    2.892020e+09\n",
       "2006    3.709813e+09\n",
       "2007    1.771568e+09\n",
       "2008    2.088889e+09\n",
       "2009    3.739178e+09\n",
       "2010    2.654638e+09\n",
       "2011    5.375825e+09\n",
       "2012    3.876649e+09\n",
       "2013    2.023688e+09\n",
       "2014    1.390088e+09\n",
       "2015    2.114047e+06\n",
       "Name: Production, dtype: float64"
      ]
     },
     "execution_count": 120,
     "metadata": {},
     "output_type": "execute_result"
    }
   ],
   "source": [
    "ap.groupby([\"Crop_Year\"])['Production'].sum()"
   ]
  },
  {
   "cell_type": "code",
   "execution_count": 137,
   "id": "ddf21e1e",
   "metadata": {},
   "outputs": [
    {
     "data": {
      "text/plain": [
       "Crop\n",
       "other oilseeds             1.320000e+02\n",
       "Cardamom                   6.330000e+02\n",
       "Sannhamp                   1.520500e+03\n",
       "Oilseeds total             4.066000e+03\n",
       "Other Cereals & Millets    1.771840e+04\n",
       "Niger seed                 2.178100e+04\n",
       "Cashewnut                  2.552022e+04\n",
       "Other  Rabi pulses         3.138100e+04\n",
       "Black pepper               3.699095e+04\n",
       "Linseed                    4.511500e+04\n",
       "Other Kharif pulses        4.870190e+04\n",
       "Horse-gram                 5.050140e+04\n",
       "Moth                       5.253100e+04\n",
       "Peas & beans (Pulses)      6.438700e+04\n",
       "Tobacco                    7.230860e+04\n",
       "Small millets              9.555200e+04\n",
       "Castor seed                9.884800e+04\n",
       "Turmeric                   1.023300e+05\n",
       "Coriander                  1.072420e+05\n",
       "Safflower                  1.135730e+05\n",
       "Masoor                     1.199445e+05\n",
       "Khesari                    1.374330e+05\n",
       "Sweet potato               1.395124e+05\n",
       "Guar seed                  1.863670e+05\n",
       "Mesta                      1.913420e+05\n",
       "Urad                       1.929020e+05\n",
       "Dry chillies               2.064979e+05\n",
       "Dry ginger                 2.214940e+05\n",
       "Ragi                       2.273326e+05\n",
       "Garlic                     2.376830e+05\n",
       "Sunflower                  2.825520e+05\n",
       "Moong(Green Gram)          2.877472e+05\n",
       "Sesamum                    2.975051e+05\n",
       "Barley                     4.064190e+05\n",
       "Arecanut                   5.002335e+05\n",
       "Arhar/Tur                  9.327981e+05\n",
       "Jowar                      1.055894e+06\n",
       "Tapioca                    1.294518e+06\n",
       "Gram                       1.473350e+06\n",
       "Groundnut                  1.514708e+06\n",
       "Rapeseed &Mustard          1.836295e+06\n",
       "Jute                       1.865302e+06\n",
       "Bajra                      2.230519e+06\n",
       "Soyabean                   2.726688e+06\n",
       "Onion                      2.968874e+06\n",
       "Banana                     3.591008e+06\n",
       "Maize                      4.378044e+06\n",
       "Cotton(lint)               4.882576e+06\n",
       "Potato                     5.478746e+06\n",
       "Wheat                      1.678397e+07\n",
       "Rice                       2.874587e+07\n",
       "Sugarcane                  1.050091e+08\n",
       "Coconut                    2.700626e+09\n",
       "Name: Production, dtype: float64"
      ]
     },
     "execution_count": 137,
     "metadata": {},
     "output_type": "execute_result"
    }
   ],
   "source": [
    "k=ap[ap[\"Crop_Year\"]==2005].groupby([\"Crop\"])['Production'].sum()\n",
    "k.sort_values()"
   ]
  },
  {
   "cell_type": "code",
   "execution_count": 138,
   "id": "b0199492",
   "metadata": {},
   "outputs": [
    {
     "data": {
      "text/plain": [
       "State_Name\n",
       "Odisha    2101103.1\n",
       "Sikkim      12944.0\n",
       "Name: Production, dtype: float64"
      ]
     },
     "execution_count": 138,
     "metadata": {},
     "output_type": "execute_result"
    }
   ],
   "source": [
    "ap[ap[\"Crop_Year\"]==2015].groupby([\"State_Name\"])['Production'].sum()"
   ]
  },
  {
   "cell_type": "code",
   "execution_count": 139,
   "id": "4ca10520",
   "metadata": {},
   "outputs": [
    {
     "data": {
      "text/html": [
       "<div>\n",
       "<style scoped>\n",
       "    .dataframe tbody tr th:only-of-type {\n",
       "        vertical-align: middle;\n",
       "    }\n",
       "\n",
       "    .dataframe tbody tr th {\n",
       "        vertical-align: top;\n",
       "    }\n",
       "\n",
       "    .dataframe thead th {\n",
       "        text-align: right;\n",
       "    }\n",
       "</style>\n",
       "<table border=\"1\" class=\"dataframe\">\n",
       "  <thead>\n",
       "    <tr style=\"text-align: right;\">\n",
       "      <th></th>\n",
       "      <th>Unnamed: 0</th>\n",
       "      <th>Crop_Year</th>\n",
       "      <th>Area</th>\n",
       "      <th>Production</th>\n",
       "    </tr>\n",
       "  </thead>\n",
       "  <tbody>\n",
       "    <tr>\n",
       "      <th>Unnamed: 0</th>\n",
       "      <td>1.000000</td>\n",
       "      <td>-0.001718</td>\n",
       "      <td>0.000681</td>\n",
       "      <td>0.001313</td>\n",
       "    </tr>\n",
       "    <tr>\n",
       "      <th>Crop_Year</th>\n",
       "      <td>-0.001718</td>\n",
       "      <td>1.000000</td>\n",
       "      <td>-0.023267</td>\n",
       "      <td>0.007422</td>\n",
       "    </tr>\n",
       "    <tr>\n",
       "      <th>Area</th>\n",
       "      <td>0.000681</td>\n",
       "      <td>-0.023267</td>\n",
       "      <td>1.000000</td>\n",
       "      <td>0.041043</td>\n",
       "    </tr>\n",
       "    <tr>\n",
       "      <th>Production</th>\n",
       "      <td>0.001313</td>\n",
       "      <td>0.007422</td>\n",
       "      <td>0.041043</td>\n",
       "      <td>1.000000</td>\n",
       "    </tr>\n",
       "  </tbody>\n",
       "</table>\n",
       "</div>"
      ],
      "text/plain": [
       "            Unnamed: 0  Crop_Year      Area  Production\n",
       "Unnamed: 0    1.000000  -0.001718  0.000681    0.001313\n",
       "Crop_Year    -0.001718   1.000000 -0.023267    0.007422\n",
       "Area          0.000681  -0.023267  1.000000    0.041043\n",
       "Production    0.001313   0.007422  0.041043    1.000000"
      ]
     },
     "execution_count": 139,
     "metadata": {},
     "output_type": "execute_result"
    }
   ],
   "source": [
    "ap.corr()"
   ]
  },
  {
   "cell_type": "code",
   "execution_count": 141,
   "id": "59d6745f",
   "metadata": {},
   "outputs": [
    {
     "data": {
      "text/plain": [
       "Crop_Year\n",
       "1997     22472430.0\n",
       "1998      9988608.3\n",
       "1999      9195580.0\n",
       "2000      8323849.0\n",
       "2001      7689550.7\n",
       "2002     12559002.1\n",
       "2003     14170705.6\n",
       "2004      8608367.5\n",
       "2005      9494050.0\n",
       "2006    173250298.0\n",
       "2007    201537048.0\n",
       "2008     10030521.0\n",
       "2009     14476077.0\n",
       "2010     12338035.0\n",
       "2011     10949803.0\n",
       "2012     13498244.0\n",
       "2013     13494606.0\n",
       "2014     18302156.0\n",
       "Name: Production, dtype: float64"
      ]
     },
     "execution_count": 141,
     "metadata": {},
     "output_type": "execute_result"
    }
   ],
   "source": [
    "ap[ap[\"State_Name\"]=='West Bengal'].groupby([\"Crop_Year\"])['Production'].sum()"
   ]
  },
  {
   "cell_type": "code",
   "execution_count": 143,
   "id": "32da816a",
   "metadata": {},
   "outputs": [
    {
     "data": {
      "text/plain": [
       "District_Name\n",
       "MUMBAI                2.000000e+00\n",
       "HYDERABAD             3.060000e+02\n",
       "NAMSAI                7.940000e+02\n",
       "RAMGARH               8.930000e+02\n",
       "RAMBAN                1.578000e+03\n",
       "                          ...     \n",
       "THIRUVANANTHAPURAM    2.963416e+09\n",
       "KASARAGOD             3.479150e+09\n",
       "THRISSUR              3.681628e+09\n",
       "MALAPPURAM            4.375478e+09\n",
       "KOZHIKODE             6.012791e+09\n",
       "Name: Production, Length: 646, dtype: float64"
      ]
     },
     "execution_count": 143,
     "metadata": {},
     "output_type": "execute_result"
    }
   ],
   "source": [
    "k=ap.groupby([\"District_Name\"])['Production'].sum()\n",
    "k.sort_values()"
   ]
  },
  {
   "cell_type": "code",
   "execution_count": 147,
   "id": "f7a2ff48",
   "metadata": {
    "scrolled": false
   },
   "outputs": [
    {
     "data": {
      "text/html": [
       "<div>\n",
       "<style scoped>\n",
       "    .dataframe tbody tr th:only-of-type {\n",
       "        vertical-align: middle;\n",
       "    }\n",
       "\n",
       "    .dataframe tbody tr th {\n",
       "        vertical-align: top;\n",
       "    }\n",
       "\n",
       "    .dataframe thead th {\n",
       "        text-align: right;\n",
       "    }\n",
       "</style>\n",
       "<table border=\"1\" class=\"dataframe\">\n",
       "  <thead>\n",
       "    <tr style=\"text-align: right;\">\n",
       "      <th></th>\n",
       "      <th>Unnamed: 0</th>\n",
       "      <th>State_Name</th>\n",
       "      <th>District_Name</th>\n",
       "      <th>Crop_Year</th>\n",
       "      <th>Season</th>\n",
       "      <th>Area</th>\n",
       "      <th>Production</th>\n",
       "    </tr>\n",
       "    <tr>\n",
       "      <th>Crop</th>\n",
       "      <th></th>\n",
       "      <th></th>\n",
       "      <th></th>\n",
       "      <th></th>\n",
       "      <th></th>\n",
       "      <th></th>\n",
       "      <th></th>\n",
       "    </tr>\n",
       "  </thead>\n",
       "  <tbody>\n",
       "    <tr>\n",
       "      <th>Apple</th>\n",
       "      <td>2</td>\n",
       "      <td>2</td>\n",
       "      <td>2</td>\n",
       "      <td>2</td>\n",
       "      <td>2</td>\n",
       "      <td>2</td>\n",
       "      <td>2</td>\n",
       "    </tr>\n",
       "    <tr>\n",
       "      <th>Arcanut (Processed)</th>\n",
       "      <td>6</td>\n",
       "      <td>6</td>\n",
       "      <td>6</td>\n",
       "      <td>6</td>\n",
       "      <td>6</td>\n",
       "      <td>6</td>\n",
       "      <td>6</td>\n",
       "    </tr>\n",
       "    <tr>\n",
       "      <th>Arecanut</th>\n",
       "      <td>453</td>\n",
       "      <td>453</td>\n",
       "      <td>453</td>\n",
       "      <td>453</td>\n",
       "      <td>453</td>\n",
       "      <td>453</td>\n",
       "      <td>453</td>\n",
       "    </tr>\n",
       "    <tr>\n",
       "      <th>Arhar/Tur</th>\n",
       "      <td>70</td>\n",
       "      <td>70</td>\n",
       "      <td>70</td>\n",
       "      <td>70</td>\n",
       "      <td>70</td>\n",
       "      <td>70</td>\n",
       "      <td>70</td>\n",
       "    </tr>\n",
       "    <tr>\n",
       "      <th>Ash Gourd</th>\n",
       "      <td>18</td>\n",
       "      <td>18</td>\n",
       "      <td>18</td>\n",
       "      <td>18</td>\n",
       "      <td>18</td>\n",
       "      <td>18</td>\n",
       "      <td>18</td>\n",
       "    </tr>\n",
       "    <tr>\n",
       "      <th>...</th>\n",
       "      <td>...</td>\n",
       "      <td>...</td>\n",
       "      <td>...</td>\n",
       "      <td>...</td>\n",
       "      <td>...</td>\n",
       "      <td>...</td>\n",
       "      <td>...</td>\n",
       "    </tr>\n",
       "    <tr>\n",
       "      <th>Water Melon</th>\n",
       "      <td>17</td>\n",
       "      <td>17</td>\n",
       "      <td>17</td>\n",
       "      <td>17</td>\n",
       "      <td>17</td>\n",
       "      <td>17</td>\n",
       "      <td>17</td>\n",
       "    </tr>\n",
       "    <tr>\n",
       "      <th>Wheat</th>\n",
       "      <td>15</td>\n",
       "      <td>15</td>\n",
       "      <td>15</td>\n",
       "      <td>15</td>\n",
       "      <td>15</td>\n",
       "      <td>15</td>\n",
       "      <td>15</td>\n",
       "    </tr>\n",
       "    <tr>\n",
       "      <th>Yam</th>\n",
       "      <td>11</td>\n",
       "      <td>11</td>\n",
       "      <td>11</td>\n",
       "      <td>11</td>\n",
       "      <td>11</td>\n",
       "      <td>11</td>\n",
       "      <td>11</td>\n",
       "    </tr>\n",
       "    <tr>\n",
       "      <th>other fibres</th>\n",
       "      <td>4</td>\n",
       "      <td>4</td>\n",
       "      <td>4</td>\n",
       "      <td>4</td>\n",
       "      <td>4</td>\n",
       "      <td>4</td>\n",
       "      <td>4</td>\n",
       "    </tr>\n",
       "    <tr>\n",
       "      <th>other oilseeds</th>\n",
       "      <td>36</td>\n",
       "      <td>36</td>\n",
       "      <td>36</td>\n",
       "      <td>36</td>\n",
       "      <td>36</td>\n",
       "      <td>36</td>\n",
       "      <td>36</td>\n",
       "    </tr>\n",
       "  </tbody>\n",
       "</table>\n",
       "<p>101 rows × 7 columns</p>\n",
       "</div>"
      ],
      "text/plain": [
       "                     Unnamed: 0  State_Name  District_Name  Crop_Year  Season  \\\n",
       "Crop                                                                            \n",
       "Apple                         2           2              2          2       2   \n",
       "Arcanut (Processed)           6           6              6          6       6   \n",
       "Arecanut                    453         453            453        453     453   \n",
       "Arhar/Tur                    70          70             70         70      70   \n",
       "Ash Gourd                    18          18             18         18      18   \n",
       "...                         ...         ...            ...        ...     ...   \n",
       "Water Melon                  17          17             17         17      17   \n",
       "Wheat                        15          15             15         15      15   \n",
       "Yam                          11          11             11         11      11   \n",
       "other fibres                  4           4              4          4       4   \n",
       "other oilseeds               36          36             36         36      36   \n",
       "\n",
       "                     Area  Production  \n",
       "Crop                                   \n",
       "Apple                   2           2  \n",
       "Arcanut (Processed)     6           6  \n",
       "Arecanut              453         453  \n",
       "Arhar/Tur              70          70  \n",
       "Ash Gourd              18          18  \n",
       "...                   ...         ...  \n",
       "Water Melon            17          17  \n",
       "Wheat                  15          15  \n",
       "Yam                    11          11  \n",
       "other fibres            4           4  \n",
       "other oilseeds         36          36  \n",
       "\n",
       "[101 rows x 7 columns]"
      ]
     },
     "execution_count": 147,
     "metadata": {},
     "output_type": "execute_result"
    }
   ],
   "source": [
    "ap[ap[\"Season\"]=='Whole Year'].groupby([\"Crop\"]).count()"
   ]
  },
  {
   "cell_type": "code",
   "execution_count": 149,
   "id": "9436c453",
   "metadata": {},
   "outputs": [
    {
     "data": {
      "text/plain": [
       "1195933096.98"
      ]
     },
     "execution_count": 149,
     "metadata": {},
     "output_type": "execute_result"
    }
   ],
   "source": [
    "ap[ap[\"Season\"]=='Kharif']['Production'].sum()"
   ]
  },
  {
   "cell_type": "code",
   "execution_count": 150,
   "id": "87389c8d",
   "metadata": {},
   "outputs": [
    {
     "data": {
      "text/plain": [
       "19690436.78"
      ]
     },
     "execution_count": 150,
     "metadata": {},
     "output_type": "execute_result"
    }
   ],
   "source": [
    "ap[ap[\"Season\"]=='Autumn']['Production'].sum()"
   ]
  }
 ],
 "metadata": {
  "kernelspec": {
   "display_name": "Python 3 (ipykernel)",
   "language": "python",
   "name": "python3"
  },
  "language_info": {
   "codemirror_mode": {
    "name": "ipython",
    "version": 3
   },
   "file_extension": ".py",
   "mimetype": "text/x-python",
   "name": "python",
   "nbconvert_exporter": "python",
   "pygments_lexer": "ipython3",
   "version": "3.9.7"
  }
 },
 "nbformat": 4,
 "nbformat_minor": 5
}
